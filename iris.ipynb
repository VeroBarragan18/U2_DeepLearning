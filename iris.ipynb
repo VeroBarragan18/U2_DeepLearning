{
 "cells": [
  {
   "cell_type": "markdown",
   "id": "79fc983d-3423-413a-a6b1-94992c15a1b4",
   "metadata": {},
   "source": [
    "# **Perceptrón para predecir qué especie de planta es**"
   ]
  },
  {
   "cell_type": "markdown",
   "id": "76b5ba03-1f47-41aa-9554-6a1d2fe4dacd",
   "metadata": {},
   "source": [
    "### Durante este documento vamos a llevar a cabo un proceso mediante el cuál, predeciremos la especie de una planta\n",
    "### **¿Cómo lo vamos a lograr?** Mediante el perceptrón. La unidad básica de las redes neuronales: los perceptrones son neuronas artificiales, su figura es realmente parecida a una real, pero esta funciona con técnicas matemáticas\n",
    "### En clase ya hemos programado y pasado a POO, para hacerlo más conveniente de usar en otros ejercicios como este, un perceptrón\n",
    "### El profesor nos ha proporcionado el dataset dónde se encuentra la información necesaria para este ejercicio\n",
    "## Comencemos!"
   ]
  },
  {
   "cell_type": "markdown",
   "id": "d7deeb85-b1b3-4692-a457-e824486a8b9a",
   "metadata": {},
   "source": [
    "##### 1.- Importar las librerías necesarias "
   ]
  },
  {
   "cell_type": "code",
   "execution_count": 4,
   "id": "765c9bb8-4267-4336-8ae9-c094342e2f39",
   "metadata": {},
   "outputs": [],
   "source": [
    "#Importar la librerías\n",
    "import pandas as pd"
   ]
  },
  {
   "cell_type": "markdown",
   "id": "c68b8b2a-0b54-4b96-95d8-5e2996d63d19",
   "metadata": {},
   "source": [
    "##### 2.- Crear el dataframe a partir del dataset proporcionado"
   ]
  },
  {
   "cell_type": "code",
   "execution_count": 6,
   "id": "08953cd9-1de0-42dd-82af-ecff5b179dac",
   "metadata": {},
   "outputs": [
    {
     "data": {
      "text/html": [
       "<div>\n",
       "<style scoped>\n",
       "    .dataframe tbody tr th:only-of-type {\n",
       "        vertical-align: middle;\n",
       "    }\n",
       "\n",
       "    .dataframe tbody tr th {\n",
       "        vertical-align: top;\n",
       "    }\n",
       "\n",
       "    .dataframe thead th {\n",
       "        text-align: right;\n",
       "    }\n",
       "</style>\n",
       "<table border=\"1\" class=\"dataframe\">\n",
       "  <thead>\n",
       "    <tr style=\"text-align: right;\">\n",
       "      <th></th>\n",
       "      <th>sepal_length</th>\n",
       "      <th>sepal_width</th>\n",
       "      <th>petal_length</th>\n",
       "      <th>petal_width</th>\n",
       "      <th>species</th>\n",
       "    </tr>\n",
       "  </thead>\n",
       "  <tbody>\n",
       "    <tr>\n",
       "      <th>0</th>\n",
       "      <td>5.1</td>\n",
       "      <td>3.5</td>\n",
       "      <td>1.4</td>\n",
       "      <td>0.2</td>\n",
       "      <td>Iris-setosa</td>\n",
       "    </tr>\n",
       "    <tr>\n",
       "      <th>1</th>\n",
       "      <td>4.9</td>\n",
       "      <td>3.0</td>\n",
       "      <td>1.4</td>\n",
       "      <td>0.2</td>\n",
       "      <td>Iris-setosa</td>\n",
       "    </tr>\n",
       "    <tr>\n",
       "      <th>2</th>\n",
       "      <td>4.7</td>\n",
       "      <td>3.2</td>\n",
       "      <td>1.3</td>\n",
       "      <td>0.2</td>\n",
       "      <td>Iris-setosa</td>\n",
       "    </tr>\n",
       "    <tr>\n",
       "      <th>3</th>\n",
       "      <td>4.6</td>\n",
       "      <td>3.1</td>\n",
       "      <td>1.5</td>\n",
       "      <td>0.2</td>\n",
       "      <td>Iris-setosa</td>\n",
       "    </tr>\n",
       "    <tr>\n",
       "      <th>4</th>\n",
       "      <td>5.0</td>\n",
       "      <td>3.6</td>\n",
       "      <td>1.4</td>\n",
       "      <td>0.2</td>\n",
       "      <td>Iris-setosa</td>\n",
       "    </tr>\n",
       "    <tr>\n",
       "      <th>...</th>\n",
       "      <td>...</td>\n",
       "      <td>...</td>\n",
       "      <td>...</td>\n",
       "      <td>...</td>\n",
       "      <td>...</td>\n",
       "    </tr>\n",
       "    <tr>\n",
       "      <th>145</th>\n",
       "      <td>6.7</td>\n",
       "      <td>3.0</td>\n",
       "      <td>5.2</td>\n",
       "      <td>2.3</td>\n",
       "      <td>Iris-virginica</td>\n",
       "    </tr>\n",
       "    <tr>\n",
       "      <th>146</th>\n",
       "      <td>6.3</td>\n",
       "      <td>2.5</td>\n",
       "      <td>5.0</td>\n",
       "      <td>1.9</td>\n",
       "      <td>Iris-virginica</td>\n",
       "    </tr>\n",
       "    <tr>\n",
       "      <th>147</th>\n",
       "      <td>6.5</td>\n",
       "      <td>3.0</td>\n",
       "      <td>5.2</td>\n",
       "      <td>2.0</td>\n",
       "      <td>Iris-virginica</td>\n",
       "    </tr>\n",
       "    <tr>\n",
       "      <th>148</th>\n",
       "      <td>6.2</td>\n",
       "      <td>3.4</td>\n",
       "      <td>5.4</td>\n",
       "      <td>2.3</td>\n",
       "      <td>Iris-virginica</td>\n",
       "    </tr>\n",
       "    <tr>\n",
       "      <th>149</th>\n",
       "      <td>5.9</td>\n",
       "      <td>3.0</td>\n",
       "      <td>5.1</td>\n",
       "      <td>1.8</td>\n",
       "      <td>Iris-virginica</td>\n",
       "    </tr>\n",
       "  </tbody>\n",
       "</table>\n",
       "<p>150 rows × 5 columns</p>\n",
       "</div>"
      ],
      "text/plain": [
       "     sepal_length  sepal_width  petal_length  petal_width         species\n",
       "0             5.1          3.5           1.4          0.2     Iris-setosa\n",
       "1             4.9          3.0           1.4          0.2     Iris-setosa\n",
       "2             4.7          3.2           1.3          0.2     Iris-setosa\n",
       "3             4.6          3.1           1.5          0.2     Iris-setosa\n",
       "4             5.0          3.6           1.4          0.2     Iris-setosa\n",
       "..            ...          ...           ...          ...             ...\n",
       "145           6.7          3.0           5.2          2.3  Iris-virginica\n",
       "146           6.3          2.5           5.0          1.9  Iris-virginica\n",
       "147           6.5          3.0           5.2          2.0  Iris-virginica\n",
       "148           6.2          3.4           5.4          2.3  Iris-virginica\n",
       "149           5.9          3.0           5.1          1.8  Iris-virginica\n",
       "\n",
       "[150 rows x 5 columns]"
      ]
     },
     "execution_count": 6,
     "metadata": {},
     "output_type": "execute_result"
    }
   ],
   "source": [
    "#Crear el dataset a partir de la ruta especificada\n",
    "df_iris=pd.read_csv('IRIS.csv')\n",
    "df_iris"
   ]
  },
  {
   "cell_type": "markdown",
   "id": "dcd77911-a5a4-4a27-b614-f7d8ab7161f4",
   "metadata": {},
   "source": [
    "##### 3.- Exploraremos el dataframe con el propósito de conocerlo mejor y trabajar mejor con él"
   ]
  },
  {
   "cell_type": "code",
   "execution_count": 8,
   "id": "8da07d5e-5b3c-429f-940f-a3fd71aa574f",
   "metadata": {},
   "outputs": [
    {
     "data": {
      "text/plain": [
       "(150, 5)"
      ]
     },
     "execution_count": 8,
     "metadata": {},
     "output_type": "execute_result"
    }
   ],
   "source": [
    "#Conoceremos la dimensión del dataframe\n",
    "df_iris.shape"
   ]
  },
  {
   "cell_type": "code",
   "execution_count": 10,
   "id": "46efaecd-c939-4280-a555-75e8f13e2daa",
   "metadata": {},
   "outputs": [
    {
     "data": {
      "text/plain": [
       "<bound method DataFrame.info of      sepal_length  sepal_width  petal_length  petal_width         species\n",
       "0             5.1          3.5           1.4          0.2     Iris-setosa\n",
       "1             4.9          3.0           1.4          0.2     Iris-setosa\n",
       "2             4.7          3.2           1.3          0.2     Iris-setosa\n",
       "3             4.6          3.1           1.5          0.2     Iris-setosa\n",
       "4             5.0          3.6           1.4          0.2     Iris-setosa\n",
       "..            ...          ...           ...          ...             ...\n",
       "145           6.7          3.0           5.2          2.3  Iris-virginica\n",
       "146           6.3          2.5           5.0          1.9  Iris-virginica\n",
       "147           6.5          3.0           5.2          2.0  Iris-virginica\n",
       "148           6.2          3.4           5.4          2.3  Iris-virginica\n",
       "149           5.9          3.0           5.1          1.8  Iris-virginica\n",
       "\n",
       "[150 rows x 5 columns]>"
      ]
     },
     "execution_count": 10,
     "metadata": {},
     "output_type": "execute_result"
    }
   ],
   "source": [
    "#Conoceremos los tipos de datos del dataframe\n",
    "df_iris.info"
   ]
  },
  {
   "cell_type": "code",
   "execution_count": 12,
   "id": "b0d98304-750a-43e0-a0cd-83def109aecc",
   "metadata": {},
   "outputs": [
    {
     "name": "stdout",
     "output_type": "stream",
     "text": [
      "sepal_length    float64\n",
      "sepal_width     float64\n",
      "petal_length    float64\n",
      "petal_width     float64\n",
      "species          object\n",
      "dtype: object\n"
     ]
    }
   ],
   "source": [
    "print(df_iris.dtypes)"
   ]
  },
  {
   "cell_type": "markdown",
   "id": "59430375-c372-43db-9484-0a9897dbd4eb",
   "metadata": {},
   "source": [
    "###### Podemos observar que el dataset es pequeño, en comparación con algunos otros que hemos trabajado. Tiene 150 registros mediante 5 columnas, una es un index, las 4 siguientes son de tipo float (con decimales) y por último la especie de la planta es de tipo objeto (cadena)\n",
    "###### Existen 3 especies en la columna 'species' pero, el profesor pide que el perceptrón sea binario: que solo regrese una predicción con dos posibles caminos: 'sepal length' y 'petal length'. Por lo que vamos a seguir la siguiente estrategia: vamos a limpiar el dataset para dejarlo listo para trabajar, después procederemos a convertir las dos especies sobrantes a números, y después, vamos a pasar al perceptrón\n",
    "###### Ahora, vamos a dejar el dataframe listo, limpio y vectorizado"
   ]
  },
  {
   "cell_type": "code",
   "execution_count": 14,
   "id": "d27289a8-2029-4b7e-af0d-e1736a92ab71",
   "metadata": {},
   "outputs": [
    {
     "data": {
      "text/plain": [
       "sepal_length    0\n",
       "sepal_width     0\n",
       "petal_length    0\n",
       "petal_width     0\n",
       "species         0\n",
       "dtype: int64"
      ]
     },
     "execution_count": 14,
     "metadata": {},
     "output_type": "execute_result"
    }
   ],
   "source": [
    "#Detectar datos nulos\n",
    "df_iris.isnull().sum()"
   ]
  },
  {
   "cell_type": "code",
   "execution_count": 16,
   "id": "ad8a18d0-a5ae-472b-9e90-23ec002557d5",
   "metadata": {},
   "outputs": [
    {
     "name": "stdout",
     "output_type": "stream",
     "text": [
      "['Iris-setosa' 'Iris-versicolor' 'Iris-virginica']\n"
     ]
    }
   ],
   "source": [
    "#Ver cuántas especies hay \n",
    "especies = df_iris['species'].unique()\n",
    "print(especies)"
   ]
  },
  {
   "cell_type": "code",
   "execution_count": 18,
   "id": "11b2fa19-a8bd-490b-b575-b2177dd1b8ca",
   "metadata": {},
   "outputs": [
    {
     "name": "stdout",
     "output_type": "stream",
     "text": [
      "species\n",
      "Iris-setosa        50\n",
      "Iris-versicolor    50\n",
      "Iris-virginica     50\n",
      "Name: count, dtype: int64\n"
     ]
    }
   ],
   "source": [
    "#Obtener los porcentajes de cada especie: 'Iris-Setosa'\n",
    "conteo_especies = df_iris['species'].value_counts()\n",
    "print(conteo_especies)"
   ]
  },
  {
   "cell_type": "code",
   "execution_count": 20,
   "id": "de89a2aa-d05b-41e5-b20f-e1821629df3b",
   "metadata": {},
   "outputs": [],
   "source": [
    "#Eliminaremos los registros de la especie que no tomaremos en cuenta\n",
    "df_iris = df_iris[df_iris['species'] != 'Iris-virginica']"
   ]
  },
  {
   "cell_type": "code",
   "execution_count": 22,
   "id": "3dd41dda-48b6-4843-94eb-33c64a690c4f",
   "metadata": {},
   "outputs": [
    {
     "name": "stdout",
     "output_type": "stream",
     "text": [
      "['Iris-setosa' 'Iris-versicolor']\n",
      "species\n",
      "Iris-setosa        50\n",
      "Iris-versicolor    50\n",
      "Name: count, dtype: int64\n"
     ]
    }
   ],
   "source": [
    "#Vamos a hacer de nuevo el proceso pasado para ver si funcionó la limpieza\n",
    "especies = df_iris['species'].unique()\n",
    "print(especies)\n",
    "conteo_especies = df_iris['species'].value_counts()\n",
    "print(conteo_especies)"
   ]
  },
  {
   "cell_type": "markdown",
   "id": "413d87b4-beab-4a6e-b173-b0f8550bd555",
   "metadata": {},
   "source": [
    "### **Graficaremos los datos en una gráfica de dispersión (scatter), solo con las dos especies que necesitamos**"
   ]
  },
  {
   "cell_type": "code",
   "execution_count": 24,
   "id": "daf5c6c2-7a07-4cbb-bfb9-b8a0328617c7",
   "metadata": {},
   "outputs": [
    {
     "data": {
      "image/png": "[encoded data removed]",
      "text/plain": [
       "<Figure size 800x600 with 1 Axes>"
      ]
     },
     "metadata": {},
     "output_type": "display_data"
    }
   ],
   "source": [
    "import seaborn as sns\n",
    "import matplotlib.pyplot as plt\n",
    "\n",
    "# Graficar los datos usando seaborn\n",
    "plt.figure(figsize=(8, 6))\n",
    "sns.scatterplot(data=df_iris, x='sepal_length', y='petal_length', hue='species', palette='cool', s=100)\n",
    "\n",
    "# Etiquetas y título\n",
    "plt.xlabel('Sepal Length')\n",
    "plt.ylabel('Petal Length')\n",
    "plt.title('Distribución de Iris-setosa e Iris-versicolor')\n",
    "plt.grid(True)\n",
    "\n",
    "# Mostrar la gráfica\n",
    "plt.show()\n"
   ]
  },
  {
   "cell_type": "markdown",
   "id": "161155bd-719a-4373-bf1e-9b022c734743",
   "metadata": {},
   "source": [
    "##### Hasta el momento, nos damos cuenta en esta gráfica que mediante el tamaño de los pétalos y de los sépalos, podemos diferenciar a una planta de la otra: tienen diferentes tamaños! Ahora tenemos parámetros útiles para entrenar nuestro perceptrón!"
   ]
  },
  {
   "cell_type": "markdown",
   "id": "4b434715-7c3b-455b-9957-5d7ef4e53de7",
   "metadata": {},
   "source": [
    "#### Pero primero, vamos a convertir los datos tipo object en numéricos: ya que solo tenemos dos especies, una va a ser 0, otra 1.Y con eso podemos comenzar a trabajar\n"
   ]
  },
  {
   "cell_type": "code",
   "execution_count": 26,
   "id": "4c206123-b4a5-45b6-97a1-22b57dec630b",
   "metadata": {},
   "outputs": [
    {
     "name": "stderr",
     "output_type": "stream",
     "text": [
      "C:\\Users\\Administrador\\AppData\\Local\\Temp\\ipykernel_1652\\1403524215.py:1: FutureWarning: Downcasting behavior in `replace` is deprecated and will be removed in a future version. To retain the old behavior, explicitly call `result.infer_objects(copy=False)`. To opt-in to the future behavior, set `pd.set_option('future.no_silent_downcasting', True)`\n",
      "  df_irisf = df_iris.replace({'species': {'Iris-setosa': 0, 'Iris-versicolor': 1}})\n"
     ]
    }
   ],
   "source": [
    "df_irisf = df_iris.replace({'species': {'Iris-setosa': 0, 'Iris-versicolor': 1}})"
   ]
  },
  {
   "cell_type": "code",
   "execution_count": 28,
   "id": "2eb7de9c-8d32-4124-a91e-a3260c6a96d5",
   "metadata": {},
   "outputs": [
    {
     "data": {
      "text/html": [
       "<div>\n",
       "<style scoped>\n",
       "    .dataframe tbody tr th:only-of-type {\n",
       "        vertical-align: middle;\n",
       "    }\n",
       "\n",
       "    .dataframe tbody tr th {\n",
       "        vertical-align: top;\n",
       "    }\n",
       "\n",
       "    .dataframe thead th {\n",
       "        text-align: right;\n",
       "    }\n",
       "</style>\n",
       "<table border=\"1\" class=\"dataframe\">\n",
       "  <thead>\n",
       "    <tr style=\"text-align: right;\">\n",
       "      <th></th>\n",
       "      <th>sepal_length</th>\n",
       "      <th>sepal_width</th>\n",
       "      <th>petal_length</th>\n",
       "      <th>petal_width</th>\n",
       "      <th>species</th>\n",
       "    </tr>\n",
       "  </thead>\n",
       "  <tbody>\n",
       "    <tr>\n",
       "      <th>0</th>\n",
       "      <td>5.1</td>\n",
       "      <td>3.5</td>\n",
       "      <td>1.4</td>\n",
       "      <td>0.2</td>\n",
       "      <td>0</td>\n",
       "    </tr>\n",
       "    <tr>\n",
       "      <th>1</th>\n",
       "      <td>4.9</td>\n",
       "      <td>3.0</td>\n",
       "      <td>1.4</td>\n",
       "      <td>0.2</td>\n",
       "      <td>0</td>\n",
       "    </tr>\n",
       "    <tr>\n",
       "      <th>2</th>\n",
       "      <td>4.7</td>\n",
       "      <td>3.2</td>\n",
       "      <td>1.3</td>\n",
       "      <td>0.2</td>\n",
       "      <td>0</td>\n",
       "    </tr>\n",
       "    <tr>\n",
       "      <th>3</th>\n",
       "      <td>4.6</td>\n",
       "      <td>3.1</td>\n",
       "      <td>1.5</td>\n",
       "      <td>0.2</td>\n",
       "      <td>0</td>\n",
       "    </tr>\n",
       "    <tr>\n",
       "      <th>4</th>\n",
       "      <td>5.0</td>\n",
       "      <td>3.6</td>\n",
       "      <td>1.4</td>\n",
       "      <td>0.2</td>\n",
       "      <td>0</td>\n",
       "    </tr>\n",
       "    <tr>\n",
       "      <th>...</th>\n",
       "      <td>...</td>\n",
       "      <td>...</td>\n",
       "      <td>...</td>\n",
       "      <td>...</td>\n",
       "      <td>...</td>\n",
       "    </tr>\n",
       "    <tr>\n",
       "      <th>95</th>\n",
       "      <td>5.7</td>\n",
       "      <td>3.0</td>\n",
       "      <td>4.2</td>\n",
       "      <td>1.2</td>\n",
       "      <td>1</td>\n",
       "    </tr>\n",
       "    <tr>\n",
       "      <th>96</th>\n",
       "      <td>5.7</td>\n",
       "      <td>2.9</td>\n",
       "      <td>4.2</td>\n",
       "      <td>1.3</td>\n",
       "      <td>1</td>\n",
       "    </tr>\n",
       "    <tr>\n",
       "      <th>97</th>\n",
       "      <td>6.2</td>\n",
       "      <td>2.9</td>\n",
       "      <td>4.3</td>\n",
       "      <td>1.3</td>\n",
       "      <td>1</td>\n",
       "    </tr>\n",
       "    <tr>\n",
       "      <th>98</th>\n",
       "      <td>5.1</td>\n",
       "      <td>2.5</td>\n",
       "      <td>3.0</td>\n",
       "      <td>1.1</td>\n",
       "      <td>1</td>\n",
       "    </tr>\n",
       "    <tr>\n",
       "      <th>99</th>\n",
       "      <td>5.7</td>\n",
       "      <td>2.8</td>\n",
       "      <td>4.1</td>\n",
       "      <td>1.3</td>\n",
       "      <td>1</td>\n",
       "    </tr>\n",
       "  </tbody>\n",
       "</table>\n",
       "<p>100 rows × 5 columns</p>\n",
       "</div>"
      ],
      "text/plain": [
       "    sepal_length  sepal_width  petal_length  petal_width  species\n",
       "0            5.1          3.5           1.4          0.2        0\n",
       "1            4.9          3.0           1.4          0.2        0\n",
       "2            4.7          3.2           1.3          0.2        0\n",
       "3            4.6          3.1           1.5          0.2        0\n",
       "4            5.0          3.6           1.4          0.2        0\n",
       "..           ...          ...           ...          ...      ...\n",
       "95           5.7          3.0           4.2          1.2        1\n",
       "96           5.7          2.9           4.2          1.3        1\n",
       "97           6.2          2.9           4.3          1.3        1\n",
       "98           5.1          2.5           3.0          1.1        1\n",
       "99           5.7          2.8           4.1          1.3        1\n",
       "\n",
       "[100 rows x 5 columns]"
      ]
     },
     "execution_count": 28,
     "metadata": {},
     "output_type": "execute_result"
    }
   ],
   "source": [
    "df_irisf"
   ]
  },
  {
   "cell_type": "markdown",
   "id": "7ef4b54a-3739-4544-b183-f46c96004fb8",
   "metadata": {},
   "source": [
    "### Uso del perceptrón"
   ]
  },
  {
   "cell_type": "markdown",
   "id": "5a3648fe-82ed-48f4-987f-a6841dfd6f67",
   "metadata": {},
   "source": [
    "#### Ahora, vamos a entrenar el perceptrón: según la gráfica scatter:\n",
    "#### Iris-Setosa: petal_length<2.5 y sepal_length<6.0\n",
    "#### Iris-Versicolor: petal_length>2.5 y sepal_length>4.5"
   ]
  },
  {
   "cell_type": "code",
   "execution_count": 30,
   "id": "5777f74e-f419-4d80-941e-2e0f56a9b814",
   "metadata": {},
   "outputs": [],
   "source": [
    "#Inputs y Labels\n",
    "inputs = df_irisf[['sepal_length', 'petal_length']].values \n",
    "labels = df_irisf['species'].values "
   ]
  },
  {
   "cell_type": "code",
   "execution_count": 32,
   "id": "7503abc7-6693-4c4b-a3aa-e4df11d43490",
   "metadata": {},
   "outputs": [],
   "source": [
    "# Definición de hiperparametros\n",
    "learning_rate = 0.05\n",
    "epochs = 15\n",
    "weights = [0.356, 0.259]\n",
    "bias = 0.122"
   ]
  },
  {
   "cell_type": "code",
   "execution_count": 34,
   "id": "0d19497c-2d08-4723-8817-922c54af00aa",
   "metadata": {},
   "outputs": [],
   "source": [
    "# Definir la clase Perceptron\n",
    "class Perceptron():\n",
    "    def __init__(self, inputs, labels, learning_rate, weights, bias, epochs=20):\n",
    "        self.inputs = inputs\n",
    "        self.labels = labels\n",
    "        self.learning_rate = learning_rate\n",
    "        self.weights = weights\n",
    "        self.bias = bias\n",
    "        self.epochs = epochs\n",
    "\n",
    "    # Método de predicción\n",
    "    def predict(self, input_x, weights_ajustados, bias_ajustado):\n",
    "        # Calcular Z\n",
    "        z = np.dot(input_x, weights_ajustados) + bias_ajustado\n",
    "        # Obtener y_pred\n",
    "        y_pred = self.activation(z)\n",
    "        return y_pred\n",
    "    \n",
    "    # Función de activación\n",
    "    def activation(self, z):\n",
    "        return 1 if z > 0 else 0\n",
    "\n",
    "    # Crear la funcion de entrenamiento\n",
    "    def fit(self):\n",
    "        # weights = [0.356, 0.259]\n",
    "        # bias = 0.122\n",
    "\n",
    "        \n",
    "    \n",
    "        # Iteraciones que realizará de acuerdo a las epochs\n",
    "        for epoch in range(self.epochs):\n",
    "            print(f\"Epoch {epoch+1} / {self.epochs}\", end=\" \")\n",
    "\n",
    "            total_error = 0\n",
    "            # Leer las entradas en cada epoch\n",
    "            for input, label in zip(self.inputs,self.labels):\n",
    "                # print(f\"Input: {input}, Label:{label}\", end=\" \")\n",
    "                # Calcular Z\n",
    "                z = np.dot(input, self.weights) + self.bias\n",
    "                # Obtener y_pred\n",
    "                y_pred = self.activation(z)\n",
    "                # Calcular el error\n",
    "                error = label - y_pred\n",
    "                total_error += abs(error)\n",
    "                # print(f\"Error: {error}\")\n",
    "                \n",
    "                # Actualizar los pesos y bias\n",
    "                delta_w = self.learning_rate * error * input\n",
    "                self.weights = self.weights + delta_w\n",
    "\n",
    "                delta_bias = self.learning_rate * error\n",
    "                self.bias = self.bias + delta_bias\n",
    "                \n",
    "            # Calcular el error promedio\n",
    "            average_error = total_error / len(self.inputs)\n",
    "            print(f\"Average promedio: {average_error}\")\n",
    "            \n",
    "        # Regresar los pesos y bias ajustados\n",
    "        return self.weights, self.bias"
   ]
  },
  {
   "cell_type": "code",
   "execution_count": 36,
   "id": "912b4ef8-0983-4ddc-b3f6-6a706978bdd9",
   "metadata": {},
   "outputs": [],
   "source": [
    "\n",
    "# Crear el objeto perceptron\n",
    "perceptron = Perceptron(inputs, labels, learning_rate, weights, bias, epochs)\n"
   ]
  },
  {
   "cell_type": "code",
   "execution_count": 38,
   "id": "dba5f3d9-e557-49a6-8868-07087d240768",
   "metadata": {},
   "outputs": [
    {
     "name": "stdout",
     "output_type": "stream",
     "text": [
      "Epoch 1 / 15 Average promedio: 0.03\n",
      "Epoch 2 / 15 Average promedio: 0.03\n",
      "Epoch 3 / 15 Average promedio: 0.01\n",
      "Epoch 4 / 15 Average promedio: 0.0\n",
      "Epoch 5 / 15 Average promedio: 0.0\n",
      "Epoch 6 / 15 Average promedio: 0.0\n",
      "Epoch 7 / 15 Average promedio: 0.0\n",
      "Epoch 8 / 15 Average promedio: 0.0\n",
      "Epoch 9 / 15 Average promedio: 0.0\n",
      "Epoch 10 / 15 Average promedio: 0.0\n",
      "Epoch 11 / 15 Average promedio: 0.0\n",
      "Epoch 12 / 15 Average promedio: 0.0\n",
      "Epoch 13 / 15 Average promedio: 0.0\n",
      "Epoch 14 / 15 Average promedio: 0.0\n",
      "Epoch 15 / 15 Average promedio: 0.0\n"
     ]
    }
   ],
   "source": [
    "# Entrenar el perceptron\n",
    "import numpy as np\n",
    "w,b = perceptron.fit()"
   ]
  },
  {
   "cell_type": "markdown",
   "id": "b77ceedd-02c9-4c9e-a622-a454f20a0a44",
   "metadata": {},
   "source": [
    "#### Probar predicciones con ejemplos de flores"
   ]
  },
  {
   "cell_type": "code",
   "execution_count": 42,
   "id": "8cb51b67-5856-499f-8939-cb27003b125f",
   "metadata": {},
   "outputs": [
    {
     "name": "stdout",
     "output_type": "stream",
     "text": [
      "Predicción para [5.0, 1.5] --> 0\n",
      "Predicción para [4.6, 1.9] --> 0\n",
      "Predicción para [6.0, 4.5] --> 1\n"
     ]
    }
   ],
   "source": [
    "#Ejemplos\n",
    "#Usaremos arreglos con dos niveles para lograrlo, dos para setosas y una para versicolor\n",
    "# Deberían ser Setosas, 0\n",
    "ejemplo1 = [5.0, 1.5]  \n",
    "ejemplo2 = [4.6, 1.9] \n",
    "# Debería ser Versicolor,1 \n",
    "ejemplo3 = [6.0, 4.5]  \n",
    "\n",
    "print(f\"Predicción para {ejemplo1} --> {perceptron.predict(ejemplo1, w, b)}\")\n",
    "print(f\"Predicción para {ejemplo2} --> {perceptron.predict(ejemplo2, w, b)}\")\n",
    "print(f\"Predicción para {ejemplo3} --> {perceptron.predict(ejemplo3, w, b)}\")\n"
   ]
  },
  {
   "cell_type": "markdown",
   "id": "363d9139-ac14-4522-94d0-f9736e727ed6",
   "metadata": {},
   "source": [
    "## La predicción fue correcta!\n",
    "### Genial! Ahora, una forma de ver si todo está en orden, es hacer una gráfica scatter de la distribución dada por el perceptrón, y otra es calcular directamente su eficiencia, vayamos a ello!"
   ]
  },
  {
   "cell_type": "code",
   "execution_count": 45,
   "id": "95d35448-0097-4918-a400-7d2280310cdb",
   "metadata": {},
   "outputs": [
    {
     "data": {
      "image/png": "[encoded data removed]",
      "text/plain": [
       "<Figure size 640x480 with 1 Axes>"
      ]
     },
     "metadata": {},
     "output_type": "display_data"
    }
   ],
   "source": [
    "# Visualización de la segmentación del perceptrón\n",
    "colores = ['blue' if label == 0 else 'green' for label in labels]\n",
    "plt.scatter(inputs[:, 0], inputs[:, 1], c=colores, alpha=0.7)\n",
    "plt.xlabel('Sepal Length')\n",
    "plt.ylabel('Petal Length')\n",
    "plt.title('Clasificación con Perceptrón')\n",
    "plt.show()"
   ]
  },
  {
   "cell_type": "markdown",
   "id": "3f2de612-0be4-45be-b0e3-a993e4f1f8c2",
   "metadata": {},
   "source": [
    "#### La gráfica salió prácticamente igual! deducimos que el perceptrón está trabajando muy bien! vamos a comprobarlo!"
   ]
  },
  {
   "cell_type": "code",
   "execution_count": 48,
   "id": "6521e627-c5b4-4d86-8e9f-cb6be4b6aefe",
   "metadata": {},
   "outputs": [
    {
     "name": "stdout",
     "output_type": "stream",
     "text": [
      "Precisión del perceptrón: 100.00%\n"
     ]
    }
   ],
   "source": [
    "#Obtener el porcentaje de confiabilidad\n",
    "predicciones = np.array([perceptron.predict(x, w, b) for x in inputs])\n",
    "\n",
    "accuracy = np.mean(predicciones == labels) * 100  # Porcentaje\n",
    "print(f'Precisión del perceptrón: {accuracy:.2f}%')\n"
   ]
  },
  {
   "cell_type": "markdown",
   "id": "1727981d-e64c-45ba-93da-5f8cd0e217ae",
   "metadata": {},
   "source": [
    "### Me resulta extraño que me haya salido el 100% así que le pregunté a chatgpt (le di contexto) y que mi análisis fue lineal (si fue así) y que por ello es totalmente viable, así que supongo yo que dado que la gráfica está igual, los resultados fueron correctos y la fiabilidad salió alta, si puede tener tanta confiabilidad"
   ]
  }
 ],
 "metadata": {
  "kernelspec": {
   "display_name": "Python [conda env:base] *",
   "language": "python",
   "name": "conda-base-py"
  },
  "language_info": {
   "codemirror_mode": {
    "name": "ipython",
    "version": 3
   },
   "file_extension": ".py",
   "mimetype": "text/x-python",
   "name": "python",
   "nbconvert_exporter": "python",
   "pygments_lexer": "ipython3",
   "version": "3.12.7"
  }
 },
 "nbformat": 4,
 "nbformat_minor": 5
}
